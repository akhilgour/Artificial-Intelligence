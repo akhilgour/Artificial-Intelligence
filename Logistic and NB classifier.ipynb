{
 "cells": [
  {
   "cell_type": "code",
   "execution_count": 1,
   "metadata": {
    "collapsed": true
   },
   "outputs": [],
   "source": [
    "import numpy as np\n",
    "import matplotlib.pyplot as plt\n",
    "from sklearn.metrics import accuracy_score"
   ]
  },
  {
   "cell_type": "code",
   "execution_count": 2,
   "metadata": {},
   "outputs": [
    {
     "data": {
      "image/png": "[encoded data removed]",
      "text/plain": [
       "<matplotlib.figure.Figure at 0xab06167908>"
      ]
     },
     "metadata": {},
     "output_type": "display_data"
    }
   ],
   "source": [
    "mu, sigma = 0, 1 # mean and standard deviation\n",
    "X1=np.random.normal(mu, sigma, 100)\n",
    "\n",
    "mu, sigma = 1, 1 # mean and standard deviation\n",
    "X2 = np.random.normal(mu, sigma, 100)\n",
    "\n",
    "plt.scatter(X1,X2, s=50)\n",
    "#plt.show()\n",
    "\n",
    "\n",
    "C1=np.vstack((X1, X2)).T\n",
    "\n",
    "y_C1 = np.zeros(C1.shape[0])\n",
    "\n",
    "mu, sigma = 0, 1 # mean and standard deviation\n",
    "X1=np.random.normal(mu, sigma, 100)\n",
    "\n",
    "mu, sigma = -2, 1 # mean and standard deviation\n",
    "X2 = np.random.normal(mu, sigma, 100)\n",
    "\n",
    "plt.scatter(X1,X2, s=50, c='y')\n",
    "plt.show()\n",
    "\n",
    "C2=np.vstack((X1, X2)).T\n",
    "y_C2 = np.ones(C2.shape[0])\n",
    "\n",
    "\n",
    "\n",
    "X= np.vstack((C1,C2))\n",
    "y= np.vstack((np.array([y_C1]).T, np.array([y_C2]).T))\n",
    "\n"
   ]
  },
  {
   "cell_type": "code",
   "execution_count": 3,
   "metadata": {
    "collapsed": true
   },
   "outputs": [],
   "source": [
    "from sklearn import linear_model"
   ]
  },
  {
   "cell_type": "code",
   "execution_count": 4,
   "metadata": {
    "collapsed": true
   },
   "outputs": [],
   "source": [
    "logistic = linear_model.LogisticRegression()"
   ]
  },
  {
   "cell_type": "code",
   "execution_count": 5,
   "metadata": {
    "collapsed": true
   },
   "outputs": [],
   "source": [
    "from sklearn.model_selection import train_test_split \n"
   ]
  },
  {
   "cell_type": "code",
   "execution_count": 6,
   "metadata": {},
   "outputs": [],
   "source": [
    "X_train, X_test, y_train, y_test = train_test_split(X, y, test_size=0.30)"
   ]
  },
  {
   "cell_type": "code",
   "execution_count": 7,
   "metadata": {},
   "outputs": [
    {
     "name": "stdout",
     "output_type": "stream",
     "text": [
      "[[ -4.20598371e-01   1.41489258e+00]\n",
      " [ -6.09853440e-01  -1.17252414e+00]\n",
      " [ -3.86320663e-01   1.38377945e+00]\n",
      " [  1.22927142e+00  -1.49299958e+00]\n",
      " [  9.81324651e-02  -1.54896230e+00]\n",
      " [ -2.33413930e-02   1.81108925e-01]\n",
      " [ -1.02955548e-01  -1.70729594e+00]\n",
      " [  1.36111227e+00   2.00219084e+00]\n",
      " [ -1.55350408e+00  -2.97415496e+00]\n",
      " [ -2.66998611e-01  -2.13522050e+00]\n",
      " [ -1.38120645e+00   5.70229300e-02]\n",
      " [ -4.74263497e-01  -1.37547548e+00]\n",
      " [  4.92759088e-01   3.00279776e+00]\n",
      " [  1.25580505e+00  -1.47066120e+00]\n",
      " [  6.37589916e-01  -2.88988305e+00]\n",
      " [  7.49689167e-01   2.53252721e-01]\n",
      " [ -6.85286393e-03   1.68752910e+00]\n",
      " [  2.25469129e-01   1.72932504e+00]\n",
      " [  1.77481151e-01   8.23780464e-02]\n",
      " [ -8.34751094e-01   3.06125680e-01]\n",
      " [ -2.26165163e+00   1.17391731e+00]\n",
      " [ -2.24930151e-01   6.20633065e-01]\n",
      " [ -7.05523463e-01   7.41276232e-02]\n",
      " [  5.15316571e-01   6.84762117e-01]\n",
      " [ -1.74646161e+00  -1.49046073e+00]\n",
      " [ -1.17415325e+00   2.34847969e+00]\n",
      " [  9.21063797e-01  -1.85315851e+00]\n",
      " [  6.35504825e-01  -1.38806573e+00]\n",
      " [  1.08134496e+00  -3.98638950e-02]\n",
      " [ -6.57515104e-01  -2.00221652e+00]\n",
      " [  4.27980024e-01   2.19315155e+00]\n",
      " [ -5.66596771e-01   2.17555781e+00]\n",
      " [  7.99625913e-01  -7.14851594e-01]\n",
      " [ -1.18323970e+00  -1.66244992e+00]\n",
      " [ -6.44978534e-01   1.30760623e+00]\n",
      " [  1.33199205e-01  -1.85568333e+00]\n",
      " [ -1.17297998e+00   1.95898749e+00]\n",
      " [ -3.64022173e-01  -3.57379815e+00]\n",
      " [ -9.96104470e-01  -3.19540624e+00]\n",
      " [  7.81377208e-01  -5.34496386e-01]\n",
      " [ -2.45337039e-02   1.15043592e+00]\n",
      " [  1.42412883e+00  -2.78909584e+00]\n",
      " [ -3.04776147e-01   1.06968453e+00]\n",
      " [  1.60114113e+00  -7.92899044e-01]\n",
      " [ -1.02530951e+00  -2.52360365e+00]\n",
      " [  2.23783130e-01   2.50160145e+00]\n",
      " [  1.29182975e+00   9.77741748e-01]\n",
      " [  1.69856690e+00   1.22130373e+00]\n",
      " [  1.41016053e+00  -1.64660414e+00]\n",
      " [  3.94933958e-01   2.73528700e+00]\n",
      " [ -8.08633944e-01  -1.79984749e+00]\n",
      " [ -3.56811142e-01  -2.48667435e+00]\n",
      " [ -6.42876840e-01  -1.98165879e+00]\n",
      " [ -3.94394912e-01   1.21108985e+00]\n",
      " [ -3.64312216e-01   1.39427307e+00]\n",
      " [  7.35920863e-01  -4.14005204e-01]\n",
      " [ -5.04698585e-01  -2.14172032e+00]\n",
      " [  1.46831050e+00  -2.75195382e+00]\n",
      " [  6.11372720e-01  -1.34525136e+00]\n",
      " [  4.43336035e-01  -1.25190452e+00]\n",
      " [ -8.48875046e-01   1.96352266e+00]\n",
      " [ -7.86793370e-01  -2.83501653e+00]\n",
      " [  3.26257770e-01   2.51441102e-01]\n",
      " [  3.44007348e-01   1.09539604e+00]\n",
      " [  3.66418899e-01  -1.85839362e-01]\n",
      " [ -1.00000454e-01   1.40466814e+00]\n",
      " [  1.99709095e-01   2.37527357e+00]\n",
      " [  8.06667112e-01  -2.38056823e+00]\n",
      " [  6.80796668e-01  -1.98370314e+00]\n",
      " [ -1.41607089e+00   4.19066168e-01]\n",
      " [  1.00987362e+00   3.94135063e-01]\n",
      " [  2.09540936e+00   2.00475132e+00]\n",
      " [ -7.53269046e-01  -1.68802282e+00]\n",
      " [  2.29270236e-01   6.78881612e-01]\n",
      " [  9.91189509e-01  -5.70986609e-01]\n",
      " [  1.06446111e+00  -1.15013216e+00]\n",
      " [ -1.72002925e-01  -6.41367339e-01]\n",
      " [  9.22061282e-01  -1.60001236e+00]\n",
      " [ -4.35768042e-01  -8.28853766e-01]\n",
      " [  1.71930182e+00  -4.28083438e-01]\n",
      " [  2.18152440e+00  -2.55959279e+00]\n",
      " [  1.92053070e-01  -3.07492554e+00]\n",
      " [  1.07765030e-01  -2.22728666e+00]\n",
      " [ -1.00074292e+00  -1.29596508e+00]\n",
      " [  5.81465109e-01   2.39594684e+00]\n",
      " [  1.20084906e-01  -7.67200171e-01]\n",
      " [  5.13230456e-01   4.13335258e-01]\n",
      " [  2.01666713e+00   2.63668337e+00]\n",
      " [  3.57630287e-01  -1.28634724e+00]\n",
      " [ -4.40415663e-01  -1.75637307e+00]\n",
      " [ -1.97268165e+00   1.62422431e-01]\n",
      " [  6.57504217e-01   2.78524388e-01]\n",
      " [ -6.11275574e-01  -2.12160379e+00]\n",
      " [ -4.85046651e-01  -1.38253888e+00]\n",
      " [  1.27837624e+00   9.30277049e-01]\n",
      " [  1.58599873e+00  -2.43284058e+00]\n",
      " [  4.43036567e-01   7.90561247e-01]\n",
      " [ -1.06612118e+00   1.62488553e+00]\n",
      " [  9.66991220e-01  -2.90882166e+00]\n",
      " [ -1.35460533e+00   7.00266551e-01]\n",
      " [ -1.51654440e+00  -3.82530391e-01]\n",
      " [ -3.37814965e-01   1.06464741e+00]\n",
      " [ -2.47292280e-01   4.74829229e-01]\n",
      " [ -1.72956032e+00  -2.42321185e+00]\n",
      " [  2.43370826e-01  -1.22738324e+00]\n",
      " [ -5.57941514e-01   1.65357661e+00]\n",
      " [ -1.09015336e-01  -1.29326673e+00]\n",
      " [  1.87810036e+00  -1.12057439e+00]\n",
      " [  5.78290344e-01   1.98284047e+00]\n",
      " [  2.94716678e-01  -6.09298236e-01]\n",
      " [  6.80460927e-01   1.81212610e+00]\n",
      " [ -9.66418972e-01   1.87405554e-01]\n",
      " [  1.11983369e-03  -9.38083205e-01]\n",
      " [ -1.09767668e+00   1.36171963e+00]\n",
      " [  2.06031523e-01   2.22932875e+00]\n",
      " [ -1.56923455e+00   1.89004568e+00]\n",
      " [ -8.11156330e-01  -3.04550997e+00]\n",
      " [ -1.36935819e+00   1.24223991e+00]\n",
      " [ -1.61746860e-01   1.47477597e+00]\n",
      " [  4.82476963e-01  -2.65219938e+00]\n",
      " [ -8.76402763e-01  -1.67271209e+00]\n",
      " [  5.02321044e-01   6.53832479e-01]\n",
      " [ -2.14600168e+00  -4.69847770e-01]\n",
      " [ -2.10147457e-01  -1.78099330e+00]\n",
      " [ -4.88229218e-01   1.47370698e+00]\n",
      " [ -1.50863207e+00   9.53087168e-01]\n",
      " [  6.21401576e-01  -2.68128019e+00]\n",
      " [ -1.34865688e+00  -1.66599690e+00]\n",
      " [ -2.87298303e-01   1.06292418e+00]\n",
      " [  6.12229516e-01   1.92809977e+00]\n",
      " [ -8.63769979e-01  -2.42389334e-01]\n",
      " [  1.50450231e-01   4.75810387e-01]\n",
      " [  7.60803242e-01  -2.57652356e+00]\n",
      " [ -1.67535745e+00   7.65055953e-01]\n",
      " [ -7.86716827e-02  -1.46980170e+00]\n",
      " [  2.13648736e-01  -1.13480059e+00]\n",
      " [  1.25235237e+00  -9.04068321e-01]\n",
      " [  1.20866385e-01   5.38833146e-01]\n",
      " [  4.22807265e-01  -2.20297993e+00]\n",
      " [  1.78164159e-02   2.77839375e+00]]\n"
     ]
    }
   ],
   "source": [
    "print(X_train)"
   ]
  },
  {
   "cell_type": "code",
   "execution_count": 8,
   "metadata": {},
   "outputs": [
    {
     "name": "stdout",
     "output_type": "stream",
     "text": [
      "[[ 0.]\n",
      " [ 1.]\n",
      " [ 0.]\n",
      " [ 1.]\n",
      " [ 1.]\n",
      " [ 1.]\n",
      " [ 1.]\n",
      " [ 0.]\n",
      " [ 1.]\n",
      " [ 1.]\n",
      " [ 0.]\n",
      " [ 1.]\n",
      " [ 0.]\n",
      " [ 1.]\n",
      " [ 1.]\n",
      " [ 0.]\n",
      " [ 0.]\n",
      " [ 0.]\n",
      " [ 0.]\n",
      " [ 0.]\n",
      " [ 0.]\n",
      " [ 0.]\n",
      " [ 1.]\n",
      " [ 0.]\n",
      " [ 1.]\n",
      " [ 0.]\n",
      " [ 1.]\n",
      " [ 1.]\n",
      " [ 0.]\n",
      " [ 1.]\n",
      " [ 0.]\n",
      " [ 0.]\n",
      " [ 1.]\n",
      " [ 1.]\n",
      " [ 0.]\n",
      " [ 1.]\n",
      " [ 0.]\n",
      " [ 1.]\n",
      " [ 1.]\n",
      " [ 1.]\n",
      " [ 0.]\n",
      " [ 1.]\n",
      " [ 0.]\n",
      " [ 0.]\n",
      " [ 1.]\n",
      " [ 0.]\n",
      " [ 0.]\n",
      " [ 0.]\n",
      " [ 1.]\n",
      " [ 0.]\n",
      " [ 1.]\n",
      " [ 1.]\n",
      " [ 1.]\n",
      " [ 0.]\n",
      " [ 0.]\n",
      " [ 0.]\n",
      " [ 1.]\n",
      " [ 1.]\n",
      " [ 1.]\n",
      " [ 1.]\n",
      " [ 0.]\n",
      " [ 1.]\n",
      " [ 0.]\n",
      " [ 0.]\n",
      " [ 0.]\n",
      " [ 0.]\n",
      " [ 0.]\n",
      " [ 1.]\n",
      " [ 1.]\n",
      " [ 0.]\n",
      " [ 1.]\n",
      " [ 0.]\n",
      " [ 1.]\n",
      " [ 0.]\n",
      " [ 0.]\n",
      " [ 1.]\n",
      " [ 1.]\n",
      " [ 1.]\n",
      " [ 1.]\n",
      " [ 1.]\n",
      " [ 1.]\n",
      " [ 1.]\n",
      " [ 1.]\n",
      " [ 1.]\n",
      " [ 0.]\n",
      " [ 0.]\n",
      " [ 0.]\n",
      " [ 0.]\n",
      " [ 0.]\n",
      " [ 1.]\n",
      " [ 0.]\n",
      " [ 0.]\n",
      " [ 1.]\n",
      " [ 1.]\n",
      " [ 0.]\n",
      " [ 1.]\n",
      " [ 0.]\n",
      " [ 0.]\n",
      " [ 1.]\n",
      " [ 0.]\n",
      " [ 0.]\n",
      " [ 0.]\n",
      " [ 0.]\n",
      " [ 1.]\n",
      " [ 1.]\n",
      " [ 0.]\n",
      " [ 1.]\n",
      " [ 1.]\n",
      " [ 0.]\n",
      " [ 0.]\n",
      " [ 0.]\n",
      " [ 0.]\n",
      " [ 1.]\n",
      " [ 0.]\n",
      " [ 0.]\n",
      " [ 0.]\n",
      " [ 1.]\n",
      " [ 0.]\n",
      " [ 0.]\n",
      " [ 1.]\n",
      " [ 1.]\n",
      " [ 0.]\n",
      " [ 1.]\n",
      " [ 1.]\n",
      " [ 0.]\n",
      " [ 0.]\n",
      " [ 1.]\n",
      " [ 1.]\n",
      " [ 0.]\n",
      " [ 0.]\n",
      " [ 0.]\n",
      " [ 0.]\n",
      " [ 1.]\n",
      " [ 0.]\n",
      " [ 1.]\n",
      " [ 1.]\n",
      " [ 1.]\n",
      " [ 0.]\n",
      " [ 1.]\n",
      " [ 0.]]\n"
     ]
    }
   ],
   "source": [
    "print(y_train)"
   ]
  },
  {
   "cell_type": "code",
   "execution_count": 9,
   "metadata": {},
   "outputs": [
    {
     "name": "stderr",
     "output_type": "stream",
     "text": [
      "C:\\Users\\user\\Anaconda3\\lib\\site-packages\\sklearn\\utils\\validation.py:578: DataConversionWarning: A column-vector y was passed when a 1d array was expected. Please change the shape of y to (n_samples, ), for example using ravel().\n",
      "  y = column_or_1d(y, warn=True)\n"
     ]
    },
    {
     "data": {
      "text/plain": [
       "LogisticRegression(C=1.0, class_weight=None, dual=False, fit_intercept=True,\n",
       "          intercept_scaling=1, max_iter=100, multi_class='ovr', n_jobs=1,\n",
       "          penalty='l2', random_state=None, solver='liblinear', tol=0.0001,\n",
       "          verbose=0, warm_start=False)"
      ]
     },
     "execution_count": 9,
     "metadata": {},
     "output_type": "execute_result"
    }
   ],
   "source": [
    "logistic.fit(X, y)"
   ]
  },
  {
   "cell_type": "code",
   "execution_count": 10,
   "metadata": {},
   "outputs": [
    {
     "name": "stdout",
     "output_type": "stream",
     "text": [
      "[ 0.  1.  0.  1.  1.  0.  1.  0.  1.  1.  0.  1.  0.  1.  1.  0.  0.  0.\n",
      "  0.  0.  0.  0.  0.  0.  1.  0.  1.  1.  0.  1.  0.  0.  1.  1.  0.  1.\n",
      "  0.  1.  1.  1.  0.  1.  0.  1.  1.  0.  0.  0.  1.  0.  1.  1.  1.  0.\n",
      "  0.  1.  1.  1.  1.  1.  0.  1.  0.  0.  0.  0.  0.  1.  1.  0.  0.  0.\n",
      "  1.  0.  1.  1.  1.  1.  1.  1.  1.  1.  1.  1.  0.  1.  0.  0.  1.  1.\n",
      "  0.  0.  1.  1.  0.  1.  0.  0.  1.  0.  0.  0.  0.  1.  1.  0.  1.  1.\n",
      "  0.  1.  0.  0.  1.  0.  0.  0.  1.  0.  0.  1.  1.  0.  1.  1.  0.  0.\n",
      "  1.  1.  0.  0.  0.  0.  1.  0.  1.  1.  1.  0.  1.  0.]\n"
     ]
    }
   ],
   "source": [
    "print(logistic.predict(X_train))"
   ]
  },
  {
   "cell_type": "code",
   "execution_count": 11,
   "metadata": {},
   "outputs": [
    {
     "name": "stdout",
     "output_type": "stream",
     "text": [
      "[ 0.  1.  0.  1.  1.  1.  0.  0.  0.  0.  1.  0.  0.  1.  1.  1.  0.  1.\n",
      "  1.  1.  1.  1.  0.  1.  0.  1.  1.  0.  0.  0.  1.  1.  0.  1.  0.  0.\n",
      "  0.  0.  1.  1.  1.  1.  0.  0.  1.  0.  0.  0.  1.  1.  1.  0.  1.  1.\n",
      "  1.  0.  0.  1.  1.  1.]\n"
     ]
    }
   ],
   "source": [
    "print(logistic.predict(X_test))"
   ]
  },
  {
   "cell_type": "code",
   "execution_count": 12,
   "metadata": {
    "collapsed": true
   },
   "outputs": [],
   "source": [
    "y_pred_test = logistic.predict(X_test)"
   ]
  },
  {
   "cell_type": "code",
   "execution_count": 13,
   "metadata": {},
   "outputs": [
    {
     "name": "stdout",
     "output_type": "stream",
     "text": [
      "Accuracy: 0.97\n"
     ]
    }
   ],
   "source": [
    "print('Accuracy: %.2f' %accuracy_score(y_test, y_pred_test))"
   ]
  },
  {
   "cell_type": "code",
   "execution_count": 14,
   "metadata": {
    "collapsed": true
   },
   "outputs": [],
   "source": [
    "from sklearn.naive_bayes import GaussianNB"
   ]
  },
  {
   "cell_type": "code",
   "execution_count": 15,
   "metadata": {
    "collapsed": true
   },
   "outputs": [],
   "source": [
    "clf = GaussianNB()"
   ]
  },
  {
   "cell_type": "code",
   "execution_count": 16,
   "metadata": {},
   "outputs": [
    {
     "name": "stderr",
     "output_type": "stream",
     "text": [
      "C:\\Users\\user\\Anaconda3\\lib\\site-packages\\sklearn\\utils\\validation.py:578: DataConversionWarning: A column-vector y was passed when a 1d array was expected. Please change the shape of y to (n_samples, ), for example using ravel().\n",
      "  y = column_or_1d(y, warn=True)\n"
     ]
    },
    {
     "data": {
      "text/plain": [
       "GaussianNB(priors=None)"
      ]
     },
     "execution_count": 16,
     "metadata": {},
     "output_type": "execute_result"
    }
   ],
   "source": [
    "clf.fit(X, y)\n",
    "GaussianNB(priors=None)"
   ]
  },
  {
   "cell_type": "code",
   "execution_count": 17,
   "metadata": {},
   "outputs": [
    {
     "name": "stdout",
     "output_type": "stream",
     "text": [
      "[ 0.  1.  0.  1.  1.  0.  1.  0.  1.  1.  0.  1.  0.  1.  1.  0.  0.  0.\n",
      "  0.  0.  0.  0.  0.  0.  1.  0.  1.  1.  0.  1.  0.  0.  1.  1.  0.  1.\n",
      "  0.  1.  1.  1.  0.  1.  0.  1.  1.  0.  0.  0.  1.  0.  1.  1.  1.  0.\n",
      "  0.  1.  1.  1.  1.  1.  0.  1.  0.  0.  0.  0.  0.  1.  1.  0.  0.  0.\n",
      "  1.  0.  1.  1.  1.  1.  1.  0.  1.  1.  1.  1.  0.  1.  0.  0.  1.  1.\n",
      "  0.  0.  1.  1.  0.  1.  0.  0.  1.  0.  0.  0.  0.  1.  1.  0.  1.  1.\n",
      "  0.  1.  0.  0.  1.  0.  0.  0.  1.  0.  0.  1.  1.  0.  0.  1.  0.  0.\n",
      "  1.  1.  0.  0.  0.  0.  1.  0.  1.  1.  1.  0.  1.  0.]\n"
     ]
    }
   ],
   "source": [
    "print(clf.predict(X_train))"
   ]
  },
  {
   "cell_type": "code",
   "execution_count": 18,
   "metadata": {},
   "outputs": [
    {
     "name": "stdout",
     "output_type": "stream",
     "text": [
      "[ 0.  1.  0.  1.  1.  1.  0.  0.  0.  0.  1.  0.  0.  1.  1.  1.  0.  1.\n",
      "  1.  1.  1.  1.  0.  1.  0.  1.  1.  0.  0.  0.  1.  1.  0.  1.  0.  0.\n",
      "  0.  0.  1.  1.  1.  1.  0.  0.  1.  0.  0.  0.  1.  1.  1.  0.  1.  1.\n",
      "  1.  0.  0.  1.  1.  1.]\n"
     ]
    }
   ],
   "source": [
    "print(clf.predict(X_test))"
   ]
  },
  {
   "cell_type": "code",
   "execution_count": 19,
   "metadata": {
    "collapsed": true
   },
   "outputs": [],
   "source": [
    "y_pred_test = clf.predict(X_test)"
   ]
  },
  {
   "cell_type": "code",
   "execution_count": 20,
   "metadata": {},
   "outputs": [
    {
     "name": "stdout",
     "output_type": "stream",
     "text": [
      "Accuracy: 0.97\n"
     ]
    }
   ],
   "source": [
    "print('Accuracy: %.2f' %accuracy_score(y_test, y_pred_test))"
   ]
  },
  {
   "cell_type": "code",
   "execution_count": null,
   "metadata": {
    "collapsed": true
   },
   "outputs": [],
   "source": []
  }
 ],
 "metadata": {
  "kernelspec": {
   "display_name": "Python 3",
   "language": "python",
   "name": "python3"
  },
  "language_info": {
   "codemirror_mode": {
    "name": "ipython",
    "version": 3
   },
   "file_extension": ".py",
   "mimetype": "text/x-python",
   "name": "python",
   "nbconvert_exporter": "python",
   "pygments_lexer": "ipython3",
   "version": "3.6.3"
  }
 },
 "nbformat": 4,
 "nbformat_minor": 2
}
