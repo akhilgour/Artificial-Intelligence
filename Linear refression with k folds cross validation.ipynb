{
 "cells": [
  {
   "cell_type": "code",
   "execution_count": 124,
   "metadata": {
    "collapsed": true
   },
   "outputs": [],
   "source": [
    "import numpy as np"
   ]
  },
  {
   "cell_type": "code",
   "execution_count": 125,
   "metadata": {
    "collapsed": true
   },
   "outputs": [],
   "source": [
    "X = np.random.randint(-10,10,200)\n",
    "E = np.random.normal(-40,40,200)"
   ]
  },
  {
   "cell_type": "code",
   "execution_count": 126,
   "metadata": {
    "collapsed": true
   },
   "outputs": [],
   "source": [
    "Y = 10*X + 2*(X**2) + E"
   ]
  },
  {
   "cell_type": "code",
   "execution_count": 127,
   "metadata": {
    "collapsed": true
   },
   "outputs": [],
   "source": [
    "import matplotlib.pyplot as plt"
   ]
  },
  {
   "cell_type": "code",
   "execution_count": 128,
   "metadata": {},
   "outputs": [
    {
     "data": {
      "text/plain": [
       "<matplotlib.collections.PathCollection at 0xc2238aa7b8>"
      ]
     },
     "execution_count": 128,
     "metadata": {},
     "output_type": "execute_result"
    }
   ],
   "source": [
    "plt.scatter(X,Y,c=['red','blue'])"
   ]
  },
  {
   "cell_type": "code",
   "execution_count": 129,
   "metadata": {},
   "outputs": [
    {
     "data": {
      "image/png": "[encoded data removed]",
      "text/plain": [
       "<matplotlib.figure.Figure at 0xc2237583c8>"
      ]
     },
     "metadata": {},
     "output_type": "display_data"
    }
   ],
   "source": [
    "plt.show()"
   ]
  },
  {
   "cell_type": "code",
   "execution_count": 130,
   "metadata": {
    "collapsed": true
   },
   "outputs": [],
   "source": [
    "X1= X\n",
    "X2 = X**2\n",
    "X3 = X**3\n",
    "X4 = X**4\n",
    "X5 = X**5"
   ]
  },
  {
   "cell_type": "code",
   "execution_count": 131,
   "metadata": {
    "collapsed": true
   },
   "outputs": [],
   "source": [
    "X = np.stack((X1,X2,X3,X4,X5), axis=-1)"
   ]
  },
  {
   "cell_type": "code",
   "execution_count": 132,
   "metadata": {
    "collapsed": true
   },
   "outputs": [],
   "source": [
    "from sklearn.model_selection import train_test_split\n",
    "X_train, X_test, Y_train, Y_test = train_test_split(X,Y, test_size=0.3, random_state=1)"
   ]
  },
  {
   "cell_type": "code",
   "execution_count": 133,
   "metadata": {},
   "outputs": [
    {
     "data": {
      "text/plain": [
       "array([[    -10,     100,   -1000,   10000, -100000],\n",
       "       [     -1,       1,      -1,       1,      -1],\n",
       "       [      6,      36,     216,    1296,    7776],\n",
       "       [      6,      36,     216,    1296,    7776],\n",
       "       [     -7,      49,    -343,    2401,  -16807],\n",
       "       [      0,       0,       0,       0,       0],\n",
       "       [     -6,      36,    -216,    1296,   -7776],\n",
       "       [    -10,     100,   -1000,   10000, -100000],\n",
       "       [     -2,       4,      -8,      16,     -32],\n",
       "       [     -2,       4,      -8,      16,     -32],\n",
       "       [     -3,       9,     -27,      81,    -243],\n",
       "       [     -7,      49,    -343,    2401,  -16807],\n",
       "       [     -4,      16,     -64,     256,   -1024],\n",
       "       [      1,       1,       1,       1,       1],\n",
       "       [     -2,       4,      -8,      16,     -32],\n",
       "       [      8,      64,     512,    4096,   32768],\n",
       "       [     -4,      16,     -64,     256,   -1024],\n",
       "       [      1,       1,       1,       1,       1],\n",
       "       [      8,      64,     512,    4096,   32768],\n",
       "       [      2,       4,       8,      16,      32],\n",
       "       [      0,       0,       0,       0,       0],\n",
       "       [      2,       4,       8,      16,      32],\n",
       "       [     -7,      49,    -343,    2401,  -16807],\n",
       "       [      5,      25,     125,     625,    3125],\n",
       "       [     -4,      16,     -64,     256,   -1024],\n",
       "       [     -2,       4,      -8,      16,     -32],\n",
       "       [     -2,       4,      -8,      16,     -32],\n",
       "       [     -4,      16,     -64,     256,   -1024],\n",
       "       [     -3,       9,     -27,      81,    -243],\n",
       "       [      2,       4,       8,      16,      32],\n",
       "       [     -8,      64,    -512,    4096,  -32768],\n",
       "       [     -7,      49,    -343,    2401,  -16807],\n",
       "       [      5,      25,     125,     625,    3125],\n",
       "       [     -6,      36,    -216,    1296,   -7776],\n",
       "       [      4,      16,      64,     256,    1024],\n",
       "       [      9,      81,     729,    6561,   59049],\n",
       "       [      7,      49,     343,    2401,   16807],\n",
       "       [     -1,       1,      -1,       1,      -1],\n",
       "       [      6,      36,     216,    1296,    7776],\n",
       "       [      2,       4,       8,      16,      32],\n",
       "       [     -3,       9,     -27,      81,    -243],\n",
       "       [     -7,      49,    -343,    2401,  -16807],\n",
       "       [      3,       9,      27,      81,     243],\n",
       "       [     -6,      36,    -216,    1296,   -7776],\n",
       "       [     -6,      36,    -216,    1296,   -7776],\n",
       "       [    -10,     100,   -1000,   10000, -100000],\n",
       "       [      8,      64,     512,    4096,   32768],\n",
       "       [      1,       1,       1,       1,       1],\n",
       "       [     -7,      49,    -343,    2401,  -16807],\n",
       "       [      0,       0,       0,       0,       0],\n",
       "       [      7,      49,     343,    2401,   16807],\n",
       "       [      2,       4,       8,      16,      32],\n",
       "       [     -1,       1,      -1,       1,      -1],\n",
       "       [     -7,      49,    -343,    2401,  -16807],\n",
       "       [      4,      16,      64,     256,    1024],\n",
       "       [     -5,      25,    -125,     625,   -3125],\n",
       "       [      3,       9,      27,      81,     243],\n",
       "       [      1,       1,       1,       1,       1],\n",
       "       [     -4,      16,     -64,     256,   -1024],\n",
       "       [      2,       4,       8,      16,      32],\n",
       "       [     -5,      25,    -125,     625,   -3125],\n",
       "       [     -1,       1,      -1,       1,      -1],\n",
       "       [      2,       4,       8,      16,      32],\n",
       "       [     -8,      64,    -512,    4096,  -32768],\n",
       "       [      4,      16,      64,     256,    1024],\n",
       "       [      7,      49,     343,    2401,   16807],\n",
       "       [      2,       4,       8,      16,      32],\n",
       "       [      6,      36,     216,    1296,    7776],\n",
       "       [     -9,      81,    -729,    6561,  -59049],\n",
       "       [    -10,     100,   -1000,   10000, -100000],\n",
       "       [     -7,      49,    -343,    2401,  -16807],\n",
       "       [      4,      16,      64,     256,    1024],\n",
       "       [     -1,       1,      -1,       1,      -1],\n",
       "       [     -2,       4,      -8,      16,     -32],\n",
       "       [     -9,      81,    -729,    6561,  -59049],\n",
       "       [     -6,      36,    -216,    1296,   -7776],\n",
       "       [      1,       1,       1,       1,       1],\n",
       "       [    -10,     100,   -1000,   10000, -100000],\n",
       "       [     -8,      64,    -512,    4096,  -32768],\n",
       "       [      9,      81,     729,    6561,   59049],\n",
       "       [     -1,       1,      -1,       1,      -1],\n",
       "       [      4,      16,      64,     256,    1024],\n",
       "       [      8,      64,     512,    4096,   32768],\n",
       "       [     -1,       1,      -1,       1,      -1],\n",
       "       [     -7,      49,    -343,    2401,  -16807],\n",
       "       [      0,       0,       0,       0,       0],\n",
       "       [      1,       1,       1,       1,       1],\n",
       "       [     -4,      16,     -64,     256,   -1024],\n",
       "       [     -5,      25,    -125,     625,   -3125],\n",
       "       [      1,       1,       1,       1,       1],\n",
       "       [      5,      25,     125,     625,    3125],\n",
       "       [     -9,      81,    -729,    6561,  -59049],\n",
       "       [    -10,     100,   -1000,   10000, -100000],\n",
       "       [    -10,     100,   -1000,   10000, -100000],\n",
       "       [     -8,      64,    -512,    4096,  -32768],\n",
       "       [      2,       4,       8,      16,      32],\n",
       "       [     -6,      36,    -216,    1296,   -7776],\n",
       "       [     -9,      81,    -729,    6561,  -59049],\n",
       "       [     -3,       9,     -27,      81,    -243],\n",
       "       [     -3,       9,     -27,      81,    -243],\n",
       "       [      6,      36,     216,    1296,    7776],\n",
       "       [     -4,      16,     -64,     256,   -1024],\n",
       "       [     -7,      49,    -343,    2401,  -16807],\n",
       "       [     -7,      49,    -343,    2401,  -16807],\n",
       "       [    -10,     100,   -1000,   10000, -100000],\n",
       "       [     -6,      36,    -216,    1296,   -7776],\n",
       "       [     -8,      64,    -512,    4096,  -32768],\n",
       "       [     -1,       1,      -1,       1,      -1],\n",
       "       [      9,      81,     729,    6561,   59049],\n",
       "       [      7,      49,     343,    2401,   16807],\n",
       "       [      9,      81,     729,    6561,   59049],\n",
       "       [     -5,      25,    -125,     625,   -3125],\n",
       "       [      6,      36,     216,    1296,    7776],\n",
       "       [     -6,      36,    -216,    1296,   -7776],\n",
       "       [      6,      36,     216,    1296,    7776],\n",
       "       [     -3,       9,     -27,      81,    -243],\n",
       "       [     -1,       1,      -1,       1,      -1],\n",
       "       [      7,      49,     343,    2401,   16807],\n",
       "       [      3,       9,      27,      81,     243],\n",
       "       [     -4,      16,     -64,     256,   -1024],\n",
       "       [      6,      36,     216,    1296,    7776],\n",
       "       [    -10,     100,   -1000,   10000, -100000],\n",
       "       [      8,      64,     512,    4096,   32768],\n",
       "       [      2,       4,       8,      16,      32],\n",
       "       [      6,      36,     216,    1296,    7776],\n",
       "       [     -2,       4,      -8,      16,     -32],\n",
       "       [    -10,     100,   -1000,   10000, -100000],\n",
       "       [      5,      25,     125,     625,    3125],\n",
       "       [      5,      25,     125,     625,    3125],\n",
       "       [      6,      36,     216,    1296,    7776],\n",
       "       [     -2,       4,      -8,      16,     -32],\n",
       "       [     -4,      16,     -64,     256,   -1024],\n",
       "       [     -9,      81,    -729,    6561,  -59049],\n",
       "       [      3,       9,      27,      81,     243],\n",
       "       [      9,      81,     729,    6561,   59049],\n",
       "       [     -2,       4,      -8,      16,     -32],\n",
       "       [      9,      81,     729,    6561,   59049],\n",
       "       [      3,       9,      27,      81,     243],\n",
       "       [      3,       9,      27,      81,     243],\n",
       "       [      9,      81,     729,    6561,   59049]])"
      ]
     },
     "execution_count": 133,
     "metadata": {},
     "output_type": "execute_result"
    }
   ],
   "source": [
    "X_train"
   ]
  },
  {
   "cell_type": "code",
   "execution_count": 134,
   "metadata": {},
   "outputs": [
    {
     "data": {
      "text/plain": [
       "array([  36.6539982 ,  -70.27574418,  119.42336286,  104.35741843,\n",
       "        -31.19174363,    6.27458033,   -6.65994043,   90.33522403,\n",
       "        -55.39930899,  -86.44173749,  -62.25519443,   21.96681295,\n",
       "        -83.69919534,  -42.2290287 ,  -24.81505448,  205.04028235,\n",
       "        -24.12011171,  -14.56964404,  222.18873962,  -27.97734498,\n",
       "       -111.96215265,   33.25044107,  -46.99524775,   39.40307061,\n",
       "        -46.49154021,  -58.77964751,  -87.98663988, -118.60392347,\n",
       "        -34.2673653 ,   14.79510984,  -50.86341137,  -33.79298476,\n",
       "         40.97340036,   29.5204124 ,   73.95501444,  214.7895945 ,\n",
       "        211.92192889,    5.68621303,   59.22469734,  -46.86108386,\n",
       "        -96.29665933,    6.12260871,   69.18308745,  -82.30898743,\n",
       "         26.60276817,   50.34489518,  127.35378761,  -29.57798865,\n",
       "        -12.95840388,  -94.49761603,  111.39259807,   15.04200404,\n",
       "         -4.22889485,  -45.76138755,   36.13056734,   -4.16043675,\n",
       "         23.43383789,  -33.27426212,  -38.9670201 ,  -26.80609187,\n",
       "        -18.15025156,  -94.72733039,   42.02300341, -127.0254206 ,\n",
       "         45.47799111,  170.87510263,  -62.21153928,   43.12015397,\n",
       "         18.53961326,   28.99044329,   39.37567962,   74.09566093,\n",
       "        -74.52873589,    4.08318451,   62.55048205,   66.29329626,\n",
       "          4.58052719,   19.16275371,   32.24929875,  271.2019917 ,\n",
       "        -47.09761258,   20.89788072,  101.34776713,  -21.73805428,\n",
       "        -25.44147354,  -88.83741348,  -68.59224657,  -65.68126272,\n",
       "        -39.11980422,  -59.06736609,   50.95921593,  -21.41613656,\n",
       "         64.10989364,   27.54892636,   71.50025631,  -10.45231225,\n",
       "       -127.78507039,   15.04185458,  -64.52166837,  -35.9460952 ,\n",
       "         63.98281673,  -73.40430605,   26.95106382,  -20.74924004,\n",
       "         82.04045169,   -5.6237925 ,  -17.10350945,  -56.66475099,\n",
       "        229.63368903,   73.55857006,  226.64294942,  -86.21787349,\n",
       "        133.35924506,  -61.33014541,   13.54100969,  -44.615451  ,\n",
       "       -114.83388188,  131.10586481,   -2.80948202,  -63.62992865,\n",
       "        186.3132859 ,   61.39551604,  112.1689637 ,   12.27915486,\n",
       "         70.71714633,  -44.22122145,   65.59680236,   49.01364599,\n",
       "         95.95417849,   67.49731627,  -46.78036558,  -25.86821274,\n",
       "         53.60337679,  -20.122824  ,  154.67101804,  -94.29010916,\n",
       "        245.22752982,   22.33119761,  -44.80043083,  126.31004163])"
      ]
     },
     "execution_count": 134,
     "metadata": {},
     "output_type": "execute_result"
    }
   ],
   "source": [
    "Y_train"
   ]
  },
  {
   "cell_type": "code",
   "execution_count": 138,
   "metadata": {},
   "outputs": [
    {
     "data": {
      "text/plain": [
       "<matplotlib.collections.PathCollection at 0xc223605668>"
      ]
     },
     "execution_count": 138,
     "metadata": {},
     "output_type": "execute_result"
    }
   ],
   "source": [
    "plt.scatter(X_train[:,0],Y_train,c=['red','blue'])"
   ]
  },
  {
   "cell_type": "code",
   "execution_count": 139,
   "metadata": {},
   "outputs": [
    {
     "data": {
      "image/png": "[encoded data removed]",
      "text/plain": [
       "<matplotlib.figure.Figure at 0xc22392a7b8>"
      ]
     },
     "metadata": {},
     "output_type": "display_data"
    }
   ],
   "source": [
    "plt.show()"
   ]
  },
  {
   "cell_type": "code",
   "execution_count": 140,
   "metadata": {
    "collapsed": true
   },
   "outputs": [],
   "source": [
    "from sklearn import linear_model"
   ]
  },
  {
   "cell_type": "code",
   "execution_count": 141,
   "metadata": {
    "collapsed": true
   },
   "outputs": [],
   "source": [
    "lr1 = linear_model.LinearRegression()"
   ]
  },
  {
   "cell_type": "code",
   "execution_count": 142,
   "metadata": {
    "collapsed": true
   },
   "outputs": [],
   "source": [
    "lr2 = linear_model.LinearRegression()"
   ]
  },
  {
   "cell_type": "code",
   "execution_count": 143,
   "metadata": {
    "collapsed": true
   },
   "outputs": [],
   "source": [
    "lr3 = linear_model.LinearRegression()"
   ]
  },
  {
   "cell_type": "code",
   "execution_count": 144,
   "metadata": {
    "collapsed": true
   },
   "outputs": [],
   "source": [
    "lr4 = linear_model.LinearRegression()"
   ]
  },
  {
   "cell_type": "code",
   "execution_count": 145,
   "metadata": {
    "collapsed": true
   },
   "outputs": [],
   "source": [
    "lr5 = linear_model.LinearRegression()"
   ]
  },
  {
   "cell_type": "code",
   "execution_count": 146,
   "metadata": {},
   "outputs": [
    {
     "data": {
      "text/plain": [
       "array([[    -10,     100,   -1000,   10000, -100000],\n",
       "       [     -1,       1,      -1,       1,      -1],\n",
       "       [      6,      36,     216,    1296,    7776],\n",
       "       [      6,      36,     216,    1296,    7776],\n",
       "       [     -7,      49,    -343,    2401,  -16807],\n",
       "       [      0,       0,       0,       0,       0],\n",
       "       [     -6,      36,    -216,    1296,   -7776],\n",
       "       [    -10,     100,   -1000,   10000, -100000],\n",
       "       [     -2,       4,      -8,      16,     -32],\n",
       "       [     -2,       4,      -8,      16,     -32],\n",
       "       [     -3,       9,     -27,      81,    -243],\n",
       "       [     -7,      49,    -343,    2401,  -16807],\n",
       "       [     -4,      16,     -64,     256,   -1024],\n",
       "       [      1,       1,       1,       1,       1],\n",
       "       [     -2,       4,      -8,      16,     -32],\n",
       "       [      8,      64,     512,    4096,   32768],\n",
       "       [     -4,      16,     -64,     256,   -1024],\n",
       "       [      1,       1,       1,       1,       1],\n",
       "       [      8,      64,     512,    4096,   32768],\n",
       "       [      2,       4,       8,      16,      32],\n",
       "       [      0,       0,       0,       0,       0],\n",
       "       [      2,       4,       8,      16,      32],\n",
       "       [     -7,      49,    -343,    2401,  -16807],\n",
       "       [      5,      25,     125,     625,    3125],\n",
       "       [     -4,      16,     -64,     256,   -1024],\n",
       "       [     -2,       4,      -8,      16,     -32],\n",
       "       [     -2,       4,      -8,      16,     -32],\n",
       "       [     -4,      16,     -64,     256,   -1024],\n",
       "       [     -3,       9,     -27,      81,    -243],\n",
       "       [      2,       4,       8,      16,      32],\n",
       "       [     -8,      64,    -512,    4096,  -32768],\n",
       "       [     -7,      49,    -343,    2401,  -16807],\n",
       "       [      5,      25,     125,     625,    3125],\n",
       "       [     -6,      36,    -216,    1296,   -7776],\n",
       "       [      4,      16,      64,     256,    1024],\n",
       "       [      9,      81,     729,    6561,   59049],\n",
       "       [      7,      49,     343,    2401,   16807],\n",
       "       [     -1,       1,      -1,       1,      -1],\n",
       "       [      6,      36,     216,    1296,    7776],\n",
       "       [      2,       4,       8,      16,      32],\n",
       "       [     -3,       9,     -27,      81,    -243],\n",
       "       [     -7,      49,    -343,    2401,  -16807],\n",
       "       [      3,       9,      27,      81,     243],\n",
       "       [     -6,      36,    -216,    1296,   -7776],\n",
       "       [     -6,      36,    -216,    1296,   -7776],\n",
       "       [    -10,     100,   -1000,   10000, -100000],\n",
       "       [      8,      64,     512,    4096,   32768],\n",
       "       [      1,       1,       1,       1,       1],\n",
       "       [     -7,      49,    -343,    2401,  -16807],\n",
       "       [      0,       0,       0,       0,       0],\n",
       "       [      7,      49,     343,    2401,   16807],\n",
       "       [      2,       4,       8,      16,      32],\n",
       "       [     -1,       1,      -1,       1,      -1],\n",
       "       [     -7,      49,    -343,    2401,  -16807],\n",
       "       [      4,      16,      64,     256,    1024],\n",
       "       [     -5,      25,    -125,     625,   -3125],\n",
       "       [      3,       9,      27,      81,     243],\n",
       "       [      1,       1,       1,       1,       1],\n",
       "       [     -4,      16,     -64,     256,   -1024],\n",
       "       [      2,       4,       8,      16,      32],\n",
       "       [     -5,      25,    -125,     625,   -3125],\n",
       "       [     -1,       1,      -1,       1,      -1],\n",
       "       [      2,       4,       8,      16,      32],\n",
       "       [     -8,      64,    -512,    4096,  -32768],\n",
       "       [      4,      16,      64,     256,    1024],\n",
       "       [      7,      49,     343,    2401,   16807],\n",
       "       [      2,       4,       8,      16,      32],\n",
       "       [      6,      36,     216,    1296,    7776],\n",
       "       [     -9,      81,    -729,    6561,  -59049],\n",
       "       [    -10,     100,   -1000,   10000, -100000],\n",
       "       [     -7,      49,    -343,    2401,  -16807],\n",
       "       [      4,      16,      64,     256,    1024],\n",
       "       [     -1,       1,      -1,       1,      -1],\n",
       "       [     -2,       4,      -8,      16,     -32],\n",
       "       [     -9,      81,    -729,    6561,  -59049],\n",
       "       [     -6,      36,    -216,    1296,   -7776],\n",
       "       [      1,       1,       1,       1,       1],\n",
       "       [    -10,     100,   -1000,   10000, -100000],\n",
       "       [     -8,      64,    -512,    4096,  -32768],\n",
       "       [      9,      81,     729,    6561,   59049],\n",
       "       [     -1,       1,      -1,       1,      -1],\n",
       "       [      4,      16,      64,     256,    1024],\n",
       "       [      8,      64,     512,    4096,   32768],\n",
       "       [     -1,       1,      -1,       1,      -1],\n",
       "       [     -7,      49,    -343,    2401,  -16807],\n",
       "       [      0,       0,       0,       0,       0],\n",
       "       [      1,       1,       1,       1,       1],\n",
       "       [     -4,      16,     -64,     256,   -1024],\n",
       "       [     -5,      25,    -125,     625,   -3125],\n",
       "       [      1,       1,       1,       1,       1],\n",
       "       [      5,      25,     125,     625,    3125],\n",
       "       [     -9,      81,    -729,    6561,  -59049],\n",
       "       [    -10,     100,   -1000,   10000, -100000],\n",
       "       [    -10,     100,   -1000,   10000, -100000],\n",
       "       [     -8,      64,    -512,    4096,  -32768],\n",
       "       [      2,       4,       8,      16,      32],\n",
       "       [     -6,      36,    -216,    1296,   -7776],\n",
       "       [     -9,      81,    -729,    6561,  -59049],\n",
       "       [     -3,       9,     -27,      81,    -243],\n",
       "       [     -3,       9,     -27,      81,    -243],\n",
       "       [      6,      36,     216,    1296,    7776],\n",
       "       [     -4,      16,     -64,     256,   -1024],\n",
       "       [     -7,      49,    -343,    2401,  -16807],\n",
       "       [     -7,      49,    -343,    2401,  -16807],\n",
       "       [    -10,     100,   -1000,   10000, -100000],\n",
       "       [     -6,      36,    -216,    1296,   -7776],\n",
       "       [     -8,      64,    -512,    4096,  -32768],\n",
       "       [     -1,       1,      -1,       1,      -1],\n",
       "       [      9,      81,     729,    6561,   59049],\n",
       "       [      7,      49,     343,    2401,   16807],\n",
       "       [      9,      81,     729,    6561,   59049],\n",
       "       [     -5,      25,    -125,     625,   -3125],\n",
       "       [      6,      36,     216,    1296,    7776],\n",
       "       [     -6,      36,    -216,    1296,   -7776],\n",
       "       [      6,      36,     216,    1296,    7776],\n",
       "       [     -3,       9,     -27,      81,    -243],\n",
       "       [     -1,       1,      -1,       1,      -1],\n",
       "       [      7,      49,     343,    2401,   16807],\n",
       "       [      3,       9,      27,      81,     243],\n",
       "       [     -4,      16,     -64,     256,   -1024],\n",
       "       [      6,      36,     216,    1296,    7776],\n",
       "       [    -10,     100,   -1000,   10000, -100000],\n",
       "       [      8,      64,     512,    4096,   32768],\n",
       "       [      2,       4,       8,      16,      32],\n",
       "       [      6,      36,     216,    1296,    7776],\n",
       "       [     -2,       4,      -8,      16,     -32],\n",
       "       [    -10,     100,   -1000,   10000, -100000],\n",
       "       [      5,      25,     125,     625,    3125],\n",
       "       [      5,      25,     125,     625,    3125],\n",
       "       [      6,      36,     216,    1296,    7776],\n",
       "       [     -2,       4,      -8,      16,     -32],\n",
       "       [     -4,      16,     -64,     256,   -1024],\n",
       "       [     -9,      81,    -729,    6561,  -59049],\n",
       "       [      3,       9,      27,      81,     243],\n",
       "       [      9,      81,     729,    6561,   59049],\n",
       "       [     -2,       4,      -8,      16,     -32],\n",
       "       [      9,      81,     729,    6561,   59049],\n",
       "       [      3,       9,      27,      81,     243],\n",
       "       [      3,       9,      27,      81,     243],\n",
       "       [      9,      81,     729,    6561,   59049]])"
      ]
     },
     "execution_count": 146,
     "metadata": {},
     "output_type": "execute_result"
    }
   ],
   "source": [
    "X_train"
   ]
  },
  {
   "cell_type": "code",
   "execution_count": 147,
   "metadata": {},
   "outputs": [
    {
     "data": {
      "text/plain": [
       "LinearRegression(copy_X=True, fit_intercept=True, n_jobs=1, normalize=False)"
      ]
     },
     "execution_count": 147,
     "metadata": {},
     "output_type": "execute_result"
    }
   ],
   "source": [
    "lr1.fit( X_train[:,0:1],Y_train)"
   ]
  },
  {
   "cell_type": "code",
   "execution_count": 148,
   "metadata": {},
   "outputs": [
    {
     "data": {
      "text/plain": [
       "LinearRegression(copy_X=True, fit_intercept=True, n_jobs=1, normalize=False)"
      ]
     },
     "execution_count": 148,
     "metadata": {},
     "output_type": "execute_result"
    }
   ],
   "source": [
    "lr2.fit( X_train[:,0:2],Y_train)"
   ]
  },
  {
   "cell_type": "code",
   "execution_count": 149,
   "metadata": {},
   "outputs": [
    {
     "data": {
      "text/plain": [
       "LinearRegression(copy_X=True, fit_intercept=True, n_jobs=1, normalize=False)"
      ]
     },
     "execution_count": 149,
     "metadata": {},
     "output_type": "execute_result"
    }
   ],
   "source": [
    "lr3.fit( X_train[:,0:3],Y_train)"
   ]
  },
  {
   "cell_type": "code",
   "execution_count": 150,
   "metadata": {},
   "outputs": [
    {
     "data": {
      "text/plain": [
       "LinearRegression(copy_X=True, fit_intercept=True, n_jobs=1, normalize=False)"
      ]
     },
     "execution_count": 150,
     "metadata": {},
     "output_type": "execute_result"
    }
   ],
   "source": [
    "lr4.fit( X_train[:,0:4],Y_train)"
   ]
  },
  {
   "cell_type": "code",
   "execution_count": 151,
   "metadata": {},
   "outputs": [
    {
     "data": {
      "text/plain": [
       "LinearRegression(copy_X=True, fit_intercept=True, n_jobs=1, normalize=False)"
      ]
     },
     "execution_count": 151,
     "metadata": {},
     "output_type": "execute_result"
    }
   ],
   "source": [
    "lr5.fit( X_train[:,0:5],Y_train)"
   ]
  },
  {
   "cell_type": "code",
   "execution_count": 152,
   "metadata": {
    "collapsed": true
   },
   "outputs": [],
   "source": [
    "from sklearn.metrics import mean_squared_error"
   ]
  },
  {
   "cell_type": "code",
   "execution_count": 153,
   "metadata": {
    "collapsed": true
   },
   "outputs": [],
   "source": [
    "Y1_pred = lr1.predict(X_train[:,0:1])"
   ]
  },
  {
   "cell_type": "code",
   "execution_count": 154,
   "metadata": {},
   "outputs": [],
   "source": [
    "Y2_pred = lr2.predict(X_train[:,0:2])"
   ]
  },
  {
   "cell_type": "code",
   "execution_count": 155,
   "metadata": {
    "collapsed": true
   },
   "outputs": [],
   "source": [
    "Y3_pred = lr3.predict(X_train[:,0:3])"
   ]
  },
  {
   "cell_type": "code",
   "execution_count": 156,
   "metadata": {},
   "outputs": [],
   "source": [
    "Y4_pred = lr4.predict(X_train[:,0:4])"
   ]
  },
  {
   "cell_type": "code",
   "execution_count": 157,
   "metadata": {},
   "outputs": [],
   "source": [
    "Y5_pred = lr5.predict(X_train[:,0:5])"
   ]
  },
  {
   "cell_type": "code",
   "execution_count": 158,
   "metadata": {},
   "outputs": [],
   "source": [
    "mse1 = mean_squared_error(Y_train, Y1_pred)"
   ]
  },
  {
   "cell_type": "code",
   "execution_count": 159,
   "metadata": {},
   "outputs": [
    {
     "data": {
      "text/plain": [
       "5079.7010636123932"
      ]
     },
     "execution_count": 159,
     "metadata": {},
     "output_type": "execute_result"
    }
   ],
   "source": [
    "mse1"
   ]
  },
  {
   "cell_type": "code",
   "execution_count": 160,
   "metadata": {},
   "outputs": [],
   "source": [
    "mse2 = mean_squared_error(Y_train, Y2_pred)"
   ]
  },
  {
   "cell_type": "code",
   "execution_count": 161,
   "metadata": {},
   "outputs": [
    {
     "data": {
      "text/plain": [
       "1556.5515272626512"
      ]
     },
     "execution_count": 161,
     "metadata": {},
     "output_type": "execute_result"
    }
   ],
   "source": [
    "mse2"
   ]
  },
  {
   "cell_type": "code",
   "execution_count": 162,
   "metadata": {
    "collapsed": true
   },
   "outputs": [],
   "source": [
    "mse3 = mean_squared_error(Y_train, Y3_pred)"
   ]
  },
  {
   "cell_type": "code",
   "execution_count": 163,
   "metadata": {},
   "outputs": [
    {
     "data": {
      "text/plain": [
       "1556.1841464717479"
      ]
     },
     "execution_count": 163,
     "metadata": {},
     "output_type": "execute_result"
    }
   ],
   "source": [
    "mse3"
   ]
  },
  {
   "cell_type": "code",
   "execution_count": 164,
   "metadata": {
    "collapsed": true
   },
   "outputs": [],
   "source": [
    "mse4 = mean_squared_error(Y_train, Y4_pred)"
   ]
  },
  {
   "cell_type": "code",
   "execution_count": 165,
   "metadata": {},
   "outputs": [
    {
     "data": {
      "text/plain": [
       "1551.198011425274"
      ]
     },
     "execution_count": 165,
     "metadata": {},
     "output_type": "execute_result"
    }
   ],
   "source": [
    "mse4"
   ]
  },
  {
   "cell_type": "code",
   "execution_count": 166,
   "metadata": {
    "collapsed": true
   },
   "outputs": [],
   "source": [
    "mse5 = mean_squared_error(Y_train, Y5_pred)"
   ]
  },
  {
   "cell_type": "code",
   "execution_count": 167,
   "metadata": {},
   "outputs": [
    {
     "data": {
      "text/plain": [
       "1550.6759356805062"
      ]
     },
     "execution_count": 167,
     "metadata": {},
     "output_type": "execute_result"
    }
   ],
   "source": [
    "mse5"
   ]
  },
  {
   "cell_type": "code",
   "execution_count": 168,
   "metadata": {
    "collapsed": true
   },
   "outputs": [],
   "source": [
    "error_train = [mse1,mse2,mse3,mse4,mse5]"
   ]
  },
  {
   "cell_type": "code",
   "execution_count": 169,
   "metadata": {},
   "outputs": [
    {
     "data": {
      "text/plain": [
       "[5079.7010636123932,\n",
       " 1556.5515272626512,\n",
       " 1556.1841464717479,\n",
       " 1551.198011425274,\n",
       " 1550.6759356805062]"
      ]
     },
     "execution_count": 169,
     "metadata": {},
     "output_type": "execute_result"
    }
   ],
   "source": [
    "error_train"
   ]
  },
  {
   "cell_type": "code",
   "execution_count": 170,
   "metadata": {
    "collapsed": true
   },
   "outputs": [],
   "source": [
    "Y1_pred = lr1.predict(X_test[:,0:1])\n",
    "Y2_pred = lr2.predict(X_test[:,0:2])\n",
    "Y3_pred = lr3.predict(X_test[:,0:3])\n",
    "Y4_pred = lr4.predict(X_test[:,0:4])\n",
    "Y5_pred = lr5.predict(X_test[:,0:5])"
   ]
  },
  {
   "cell_type": "code",
   "execution_count": 171,
   "metadata": {
    "collapsed": true
   },
   "outputs": [],
   "source": [
    "mse1 = mean_squared_error(Y_test, Y1_pred)\n",
    "mse2 = mean_squared_error(Y_test, Y2_pred)\n",
    "mse3 = mean_squared_error(Y_test, Y3_pred)\n",
    "mse4 = mean_squared_error(Y_test, Y4_pred)\n",
    "mse5 = mean_squared_error(Y_test, Y5_pred)"
   ]
  },
  {
   "cell_type": "code",
   "execution_count": 172,
   "metadata": {
    "collapsed": true
   },
   "outputs": [],
   "source": [
    "error_test = [mse1,mse2,mse3,mse4,mse5]"
   ]
  },
  {
   "cell_type": "code",
   "execution_count": 173,
   "metadata": {},
   "outputs": [
    {
     "data": {
      "text/plain": [
       "[4834.206355959247,\n",
       " 1515.6543170740292,\n",
       " 1514.8773072523588,\n",
       " 1504.1564507303308,\n",
       " 1503.7552956324321]"
      ]
     },
     "execution_count": 173,
     "metadata": {},
     "output_type": "execute_result"
    }
   ],
   "source": [
    "error_test"
   ]
  },
  {
   "cell_type": "code",
   "execution_count": 174,
   "metadata": {},
   "outputs": [
    {
     "data": {
      "text/plain": [
       "<matplotlib.collections.PathCollection at 0xc224a799b0>"
      ]
     },
     "execution_count": 174,
     "metadata": {},
     "output_type": "execute_result"
    }
   ],
   "source": [
    "plt.scatter([1,2,3,4,5],error_train,c=['red','blue'])"
   ]
  },
  {
   "cell_type": "code",
   "execution_count": 175,
   "metadata": {},
   "outputs": [
    {
     "data": {
      "image/png": "[encoded data removed]",
      "text/plain": [
       "<matplotlib.figure.Figure at 0xc224a40780>"
      ]
     },
     "metadata": {},
     "output_type": "display_data"
    }
   ],
   "source": [
    "plt.show()"
   ]
  },
  {
   "cell_type": "code",
   "execution_count": 176,
   "metadata": {},
   "outputs": [
    {
     "data": {
      "text/plain": [
       "<matplotlib.collections.PathCollection at 0xc224adceb8>"
      ]
     },
     "execution_count": 176,
     "metadata": {},
     "output_type": "execute_result"
    }
   ],
   "source": [
    "plt.scatter([1,2,3,4,5],error_test,c=['red','blue'])"
   ]
  },
  {
   "cell_type": "code",
   "execution_count": 177,
   "metadata": {},
   "outputs": [
    {
     "data": {
      "image/png": "[encoded data removed]",
      "text/plain": [
       "<matplotlib.figure.Figure at 0xc224a91550>"
      ]
     },
     "metadata": {},
     "output_type": "display_data"
    }
   ],
   "source": [
    "plt.show()"
   ]
  },
  {
   "cell_type": "markdown",
   "metadata": {},
   "source": [
    "## Question 8\n",
    "a. Training error increases as our k increases. Test error decreases at first and then increases as our k increases.\n",
    "\n",
    "b. When we increase the number of samples to 40, the training error and the test error both decrease and become almost constant after a few iterations.\n",
    "\n",
    "c. Similarly, when we increase the number of samples to 200, the training error and the test error both decrease and become almost constant after a few iterations."
   ]
  },
  {
   "cell_type": "code",
   "execution_count": null,
   "metadata": {
    "collapsed": true
   },
   "outputs": [],
   "source": []
  }
 ],
 "metadata": {
  "kernelspec": {
   "display_name": "Python 3",
   "language": "python",
   "name": "python3"
  },
  "language_info": {
   "codemirror_mode": {
    "name": "ipython",
    "version": 3
   },
   "file_extension": ".py",
   "mimetype": "text/x-python",
   "name": "python",
   "nbconvert_exporter": "python",
   "pygments_lexer": "ipython3",
   "version": "3.6.3"
  }
 },
 "nbformat": 4,
 "nbformat_minor": 2
}
